{
  "nbformat": 4,
  "nbformat_minor": 0,
  "metadata": {
    "colab": {
      "provenance": []
    },
    "kernelspec": {
      "name": "python3",
      "display_name": "Python 3"
    },
    "language_info": {
      "name": "python"
    }
  },
  "cells": [
    {
      "cell_type": "code",
      "execution_count": null,
      "metadata": {
        "id": "WCfYKj6AC84L"
      },
      "outputs": [],
      "source": [
        "!git clone https://github.com/takhahashi/conf.git\n",
        "%cd 'conf'"
      ]
    },
    {
      "cell_type": "code",
      "source": [
        "!pip install hydra-core --upgrade\n",
        "!pip install datasets\n",
        "!pip install transformers\n",
        "!pip install orjson\n",
        "!pip install wget\n",
        "!pip install pytreebank\n",
        "!pip install accelerate\n",
        "!pip install -U transformers\n",
        "!pip install optuna\n",
        "!pip install fugashi\n",
        "!pip install unidic_lite\n",
        "!pip install ipadic\n",
        "!pip install gpytorch"
      ],
      "metadata": {
        "id": "PmTciaNEDDa9"
      },
      "execution_count": null,
      "outputs": []
    },
    {
      "cell_type": "markdown",
      "source": [
        "# 理研のデータセット"
      ],
      "metadata": {
        "id": "B8eEVDYXDhEk"
      }
    },
    {
      "cell_type": "code",
      "source": [
        "#@title Y14_1-2_1_3\n",
        "!python train.py -m data=riken data.question_id_pref='Y14' data.question_id_suff='1-2_1_3' data.score_id='score' data.fold=0,1,2,3,4 model.model_type='classification' model.id=0 model.model_name_or_path='tohoku-nlp/bert-base-japanese-v3' training.num_train_epochs=10 training.output_dir='/content/classification_bert/${data.question_id_pref}_${data.question_id_suff}/fold${data.fold}/id${model.id}' training.wandb_project='test' training.wandb_runname=\"test\""
      ],
      "metadata": {
        "id": "X4evlZ9NDXL2"
      },
      "execution_count": null,
      "outputs": []
    },
    {
      "cell_type": "markdown",
      "source": [
        "# ASAPデータセット"
      ],
      "metadata": {
        "id": "FihHGRz4D83d"
      }
    },
    {
      "cell_type": "code",
      "source": [
        "#@title prompt_1\n",
        "!python train.py -m data=asap data.prompt_id=1 data.fold=0,1,2,3,4 model.model_type='classification' model.id=0 model.model_name_or_path='bert-base-uncased' training.num_train_epochs=10 training.output_dir='/content/classification_bert/prompt_${data.prompt_id}/fold${data.fold}' training.wandb_project='test' training.wandb_runname=\"test\""
      ],
      "metadata": {
        "id": "EX4yWCP6D_Y6"
      },
      "execution_count": null,
      "outputs": []
    }
  ]
}